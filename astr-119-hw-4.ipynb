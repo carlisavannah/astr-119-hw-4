{
 "cells": [
  {
   "cell_type": "code",
   "execution_count": 46,
   "metadata": {},
   "outputs": [],
   "source": [
    "%matplotlib inline\n",
    "import numpy as np\n",
    "import matplotlib.pyplot as plt"
   ]
  },
  {
   "cell_type": "code",
   "execution_count": 47,
   "metadata": {},
   "outputs": [],
   "source": [
    "def func(x):\n",
    "    return np.e**(-2*x) * np.cos(10*x)                            #defines the function f(x) = e^(-2x)cos(10x)\n",
    "\n",
    "def func_integral(x):\n",
    "    return (-np.e**(-2*x)*(np.cos(10*x) - 5*np.sin(10*x))) / 52    #gives the integral of func(x)"
   ]
  },
  {
   "cell_type": "code",
   "execution_count": 48,
   "metadata": {},
   "outputs": [],
   "source": [
    "def trapezoid_core(f,x,h):\n",
    "    return 0.5*h*(f(x+h) + f(x))\n",
    "\n",
    "#core of the trapezoid method"
   ]
  },
  {
   "cell_type": "code",
   "execution_count": 49,
   "metadata": {},
   "outputs": [],
   "source": [
    "def trapezoid_method(f,a,b,N):\n",
    "    x = np.linspace(a,b,N)\n",
    "    h = x[1]-x[0]\n",
    "    \n",
    "    Fint = 0.0\n",
    "    \n",
    "    for i in range(0,len(x)-1,1):\n",
    "        Fint += trapezoid_core(f,x[i],h)\n",
    "        \n",
    "    return Fint\n",
    "\n",
    "#wrapper function to perform trapezoid method"
   ]
  },
  {
   "cell_type": "code",
   "execution_count": 50,
   "metadata": {},
   "outputs": [],
   "source": [
    "def simpson_core(f,x,h):\n",
    "    return h*( f(x) + 4*f(x+h) + f(x+2*h))/3.\n",
    "\n",
    "#core of simpson's method"
   ]
  },
  {
   "cell_type": "code",
   "execution_count": 51,
   "metadata": {},
   "outputs": [],
   "source": [
    "def simpsons_method(f,a,b,N):\n",
    "    x = np.linspace(a,b,N)\n",
    "    h = x[1] - x[0]\n",
    "    \n",
    "    Fint = 0.0\n",
    "    \n",
    "    for i in range(0,len(x)-2,2):\n",
    "        Fint += simpson_core(f,x[i],h)\n",
    "        \n",
    "    if ((N%2)==0):\n",
    "        Fint += simpson_core(f,x[-2],0.5*h)\n",
    "        \n",
    "    return Fint\n",
    "\n",
    "#wrapper function for simpson's method"
   ]
  },
  {
   "cell_type": "code",
   "execution_count": 52,
   "metadata": {},
   "outputs": [],
   "source": [
    "def romberg_core(f,a,b,i):\n",
    "    \n",
    "    h = b-a\n",
    "    dh = h/2.**i\n",
    "    \n",
    "    K = h/2.**(i+1)\n",
    "    \n",
    "    M = 0.0\n",
    "    for j in range(2**i):\n",
    "        M += f(a + 0.5*dh + j*dh)\n",
    "        \n",
    "    return K*M\n",
    "\n",
    "#core of romberg integration"
   ]
  },
  {
   "cell_type": "code",
   "execution_count": 53,
   "metadata": {},
   "outputs": [],
   "source": [
    "def romberg_integration(f,a,b,tol):\n",
    "    \n",
    "    i = 0\n",
    "    \n",
    "    imax = 1000\n",
    "    \n",
    "    delta = 100.0*np.fabs(tol)\n",
    "    \n",
    "    I = np.zeros(imax,dtype=float)\n",
    "    \n",
    "    I[0] = 0.5*(b-a)*(f(a) + f(b))\n",
    "    \n",
    "    i += 1\n",
    "    \n",
    "    while(delta>tol):\n",
    "        \n",
    "        I[i] = 0.5*I[i-1] + romberg_core(f,a,b,i)\n",
    "        \n",
    "        delta = np.fabs( (I[i]-I[i-1])/I[i] )\n",
    "        \n",
    "        print(i,I[i],I[i-1],delta)\n",
    "        \n",
    "        if(delta>tol):\n",
    "            \n",
    "            i += 1\n",
    "            \n",
    "            if(i>imax):\n",
    "                print(\"Max iterations reached.\")\n",
    "                raise StopIteration('Stopping iterations after ',i)\n",
    "                \n",
    "    return I[i]\n",
    "\n",
    "#wrapper function for romberg integration"
   ]
  },
  {
   "cell_type": "code",
   "execution_count": 54,
   "metadata": {},
   "outputs": [
    {
     "name": "stdout",
     "output_type": "stream",
     "text": [
      "0.019194856870544078\n",
      "Trapezoid\n",
      "0.019363212068311726\n",
      "151\n",
      "0.019267986693503495\n",
      "Trapezoid Method iterated through 151 intervals.\n",
      "Simpson's Method\n",
      "0.01919146231788063\n",
      "168\n",
      "0.019194442849082845\n",
      "Simpson's Method iterated through 168 intervals.\n",
      "Romberg\n",
      "1 0.7868648494891817 1.5737296989783633 1.0\n",
      "2 0.2974797999211515 0.7868648494891817 1.6451034648327187\n",
      "3 0.1338682162766772 0.2974797999211515 1.222183937270994\n",
      "4 0.07429884868669352 0.1338682162766772 0.8017535754985687\n",
      "5 0.046311294693032426 0.07429884868669352 0.604335382527577\n",
      "6 0.032650759062474666 0.046311294693032426 0.4183834012685401\n",
      "7 0.02589762452336669 0.032650759062474666 0.2607627017302229\n",
      "8 0.022539969341304138 0.02589762452336669 0.14896449641170112\n",
      "9 0.020865846795039833 0.022539969341304138 0.08023266741622354\n",
      "10 0.020029960350517365 0.020865846795039833 0.04173180724748054\n",
      "11 0.019612310745926682 0.020029960350517365 0.021295277746780788\n",
      "12 0.01940355934245707 0.019612310745926682 0.010758407763509734\n",
      "13 0.019299201990079368 0.01940355934245707 0.0054073402843986505\n",
      "14 0.019247027901207865 0.019299201990079368 0.0027107608062556117\n",
      "15 0.019220942003600056 0.019247027901207865 0.0013571602059318296\n",
      "16 0.019207899341502903 0.019220942003600056 0.0006790259499627408\n",
      "17 0.019201378082131126 0.019207899341502903 0.00033962454902365327\n",
      "18 0.019198117470364325 0.019201378082131126 0.00016984018208218577\n",
      "19 0.019196487168961118 0.019198117470364325 8.492706966944359e-05\n",
      "20 0.01919567201937793 0.019196487168961118 4.246527979663632e-05\n",
      "21 0.019195264444867084 0.01919567201937793 2.123307610669639e-05\n",
      "22 0.019195060657681284 0.019195264444867084 1.0616647138248912e-05\n",
      "23 0.01919495876410423 0.019195060657681284 5.3083509220934755e-06\n",
      "24 0.019194907817322186 0.01919495876410423 2.6541821678933446e-06\n",
      "25 0.019194882343925614 0.019194907817322186 1.327093134317802e-06\n",
      "26 0.019194869607236317 0.019194882343925614 6.635465391331522e-07\n",
      "Romberg Method took 26 iterations.\n",
      "0.019194869607236317 6.635471327025206e-07 1e-06\n"
     ]
    }
   ],
   "source": [
    "#check tbe integrals\n",
    "tolerance = 1.0e-6\n",
    "Answer = func_integral(np.pi)-func_integral(0)\n",
    "print(Answer)\n",
    "\n",
    "print(\"Trapezoid\")\n",
    "print(trapezoid_method(func,0,np.pi,100))\n",
    "N = 2\n",
    "Area = 0\n",
    "while True:\n",
    "    AreaNew = trapezoid_method(func,0,np.pi,N)\n",
    "    if abs(Area - AreaNew) < 10**-6:\n",
    "        print(N)\n",
    "        print(AreaNew)\n",
    "        break\n",
    "    N += 1\n",
    "    Area = AreaNew\n",
    "print(\"Trapezoid Method iterated through 151 intervals.\")\n",
    "    \n",
    "print(\"Simpson's Method\")\n",
    "print(simpsons_method(func,0,np.pi,100))\n",
    "N = 20\n",
    "Area = 0\n",
    "while True:\n",
    "    AreaNew = simpsons_method(func,0,np.pi,N)\n",
    "    if abs(Area - AreaNew) < 10**-8:\n",
    "        print(N)\n",
    "        print(AreaNew)\n",
    "        break\n",
    "    N += 1\n",
    "    Area = AreaNew\n",
    "print(\"Simpson's Method iterated through 168 intervals.\")    \n",
    "    \n",
    "print(\"Romberg\")\n",
    "RI = romberg_integration(func,0,np.pi,tolerance)\n",
    "print(\"Romberg Method took 26 iterations.\")\n",
    "print(RI, (RI-Answer)/Answer, tolerance)"
   ]
  },
  {
   "cell_type": "code",
   "execution_count": null,
   "metadata": {},
   "outputs": [],
   "source": []
  },
  {
   "cell_type": "code",
   "execution_count": null,
   "metadata": {},
   "outputs": [],
   "source": []
  }
 ],
 "metadata": {
  "kernelspec": {
   "display_name": "Python 3",
   "language": "python",
   "name": "python3"
  },
  "language_info": {
   "codemirror_mode": {
    "name": "ipython",
    "version": 3
   },
   "file_extension": ".py",
   "mimetype": "text/x-python",
   "name": "python",
   "nbconvert_exporter": "python",
   "pygments_lexer": "ipython3",
   "version": "3.7.0"
  }
 },
 "nbformat": 4,
 "nbformat_minor": 2
}
